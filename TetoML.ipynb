{
 "cells": [
  {
   "cell_type": "code",
   "execution_count": 61,
   "id": "5603148c-6691-43e6-acf4-328453297c06",
   "metadata": {},
   "outputs": [
    {
     "name": "stdout",
     "output_type": "stream",
     "text": [
      "✅ Model trained and saved to teto_model.joblib\n"
     ]
    }
   ],
   "source": [
    "import pandas as pd\n",
    "from sklearn.ensemble import RandomForestRegressor\n",
    "from sklearn.preprocessing import OneHotEncoder\n",
    "from sklearn.pipeline import Pipeline\n",
    "import joblib\n",
    "\n",
    "# Load your new syllable-based dataset\n",
    "df = pd.read_csv(\"syllable_dataset.csv\")\n",
    "\n",
    "# Features and target\n",
    "X = df[[\"syllable\", \"position\"]]\n",
    "y = df[\"pitch\"]\n",
    "\n",
    "# Create pipeline: OneHotEncoder + Regressor\n",
    "pipeline = Pipeline([\n",
    "    (\"encoder\", OneHotEncoder(handle_unknown=\"ignore\")),\n",
    "    (\"regressor\", RandomForestRegressor(n_estimators=100))\n",
    "])\n",
    "\n",
    "# Train model\n",
    "pipeline.fit(X, y)\n",
    "\n",
    "# Save model to file\n",
    "joblib.dump(pipeline, \"teto_model.joblib\")\n",
    "\n",
    "print(\"✅ Model trained and saved to teto_model.joblib\")\n"
   ]
  },
  {
   "cell_type": "code",
   "execution_count": null,
   "id": "46bfb850-8fbd-4db5-a1f8-5c0cb6ce4da6",
   "metadata": {},
   "outputs": [],
   "source": []
  },
  {
   "cell_type": "code",
   "execution_count": null,
   "id": "705d6f2d-c8ea-44aa-93d6-ac0f687fe4b0",
   "metadata": {},
   "outputs": [],
   "source": []
  }
 ],
 "metadata": {
  "kernelspec": {
   "display_name": "Python (pyopenjtalk-env)",
   "language": "python",
   "name": "pyopenjtalk-env"
  },
  "language_info": {
   "codemirror_mode": {
    "name": "ipython",
    "version": 3
   },
   "file_extension": ".py",
   "mimetype": "text/x-python",
   "name": "python",
   "nbconvert_exporter": "python",
   "pygments_lexer": "ipython3",
   "version": "3.11.7"
  }
 },
 "nbformat": 4,
 "nbformat_minor": 5
}
